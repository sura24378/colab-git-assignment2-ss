{
 "cells": [
  {
   "cell_type": "markdown",
   "id": "9ddb70bc",
   "metadata": {},
   "source": [
    "# Git and GitHub Assignment 2\n",
    "This notebook demonstrates basic Git operations."
   ]
  },
  {
   "cell_type": "code",
   "execution_count": null,
   "id": "2a40307a",
   "metadata": {},
   "outputs": [],
   "source": [
    "def multiply_numbers(a, b):\n",
    "    return a * b\n",
    "\n",
    "print(multiply_numbers(3, 4))"
   ]
  },
  {
   "cell_type": "code",
   "execution_count": null,
   "id": "916ac478",
   "metadata": {},
   "outputs": [],
   "source": [
    "def divide_numbers(a, b):\n",
    "    if b != 0:\n",
    "        return a / b\n",
    "    else:\n",
    "        return 'Cannot divide by zero'\n",
    "\n",
    "print(divide_numbers(10, 2))"
   ]
  }
 ],
 "metadata": {},
 "nbformat": 4,
 "nbformat_minor": 5
}
