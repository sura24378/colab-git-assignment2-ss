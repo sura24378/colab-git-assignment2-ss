{
 "cells": [
  {
   "cell_type": "markdown",
   "id": "9ddb70bc",
   "metadata": {},
   "source": [
    "# Git and GitHub Assignment 2\n",
    "This notebook demonstrates basic Git operations."
   ]
  },
  {
   "cell_type": "code",
   "execution_count": null,
   "id": "2a40307a",
   "metadata": {},
   "outputs": [],
   "source": [
    "def multiply_numbers(a, b):\n",
    "    return a * b\n",
    "\n",
    "print(multiply_numbers(3, 4))"
   ]
  }
 ],
 "metadata": {},
 "nbformat": 4,
 "nbformat_minor": 5
}
