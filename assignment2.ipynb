{
 "cells": [
  {
   "cell_type": "markdown",
   "id": "9ddb70bc",
   "metadata": {},
   "source": [
    "# Git and GitHub Assignment 2\n",
    "This notebook demonstrates basic Git operations."
   ]
  }
 ],
 "metadata": {},
 "nbformat": 4,
 "nbformat_minor": 5
}
